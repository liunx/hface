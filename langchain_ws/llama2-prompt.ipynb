{
 "cells": [
  {
   "cell_type": "code",
   "execution_count": 1,
   "metadata": {},
   "outputs": [
    {
     "data": {
      "text/plain": [
       "'Tell me a funny joke about chickens.'"
      ]
     },
     "execution_count": 1,
     "metadata": {},
     "output_type": "execute_result"
    }
   ],
   "source": [
    "from langchain import PromptTemplate\n",
    "\n",
    "prompt_template = PromptTemplate.from_template(\n",
    "    \"Tell me a {adjective} joke about {content}.\"\n",
    ")\n",
    "prompt_template.format(adjective=\"funny\", content=\"chickens\")"
   ]
  },
  {
   "cell_type": "code",
   "execution_count": null,
   "metadata": {},
   "outputs": [],
   "source": [
    "prompt = '''\n",
    "[INST] <<SYS>>\n",
    "You are a helpful, respectful and honest assistant. Always answer as helpfully as possible, while being safe. Your answers should not include any harmful, unethical, racist, sexist, toxic, dangerous, or illegal content. Please ensure that your responses are socially unbiased and positive in nature.\\n\\nIf a question does not make any sense, or is not factually coherent, explain why instead of answering something not correct. If you don’t know the answer to a question, please don’t share false information.\n",
    "<</SYS>>\n",
    "My name is Lei\n",
    "</INST]\n",
    "hello Lei, nice to see you!\n",
    "[INST] What's 20% of 300? [/INST]\n",
    "60\n",
    "[INST] Can you tell my name? [/INST]\n",
    "'''"
   ]
  },
  {
   "cell_type": "code",
   "execution_count": 4,
   "metadata": {},
   "outputs": [
    {
     "name": "stdout",
     "output_type": "stream",
     "text": [
      "\n",
      "Summarize the text delimited by triple backticks into a single sentence.\n",
      "```\n",
      "You should express what you want a model to do by providing instructions that are as clear and specific as you can possibly make them. This will guide the model towards the desired output, and reduce the chances of receiving irrelevant or incorrect responses. Don't confuse writing a clear prompt with writing a short prompt. In many cases, longer prompts provide more clarity and context for the model, which can lead to more detailed and relevant outputs.\n",
      "```\n",
      "\n"
     ]
    }
   ],
   "source": [
    "text = f\"\"\"\n",
    "You should express what you want a model to do by \\\n",
    "providing instructions that are as clear and \\\n",
    "specific as you can possibly make them. \\\n",
    "This will guide the model towards the desired output, \\\n",
    "and reduce the chances of receiving irrelevant \\\n",
    "or incorrect responses. Don't confuse writing a \\\n",
    "clear prompt with writing a short prompt. \\\n",
    "In many cases, longer prompts provide more clarity \\\n",
    "and context for the model, which can lead to \\\n",
    "more detailed and relevant outputs.\n",
    "\"\"\"\n",
    "prompt = f\"\"\"\n",
    "Summarize the text delimited by triple backticks \\\n",
    "into a single sentence.\n",
    "```{text}```\n",
    "\"\"\"\n",
    "\n",
    "print(prompt)"
   ]
  },
  {
   "cell_type": "code",
   "execution_count": 5,
   "metadata": {},
   "outputs": [
    {
     "name": "stdout",
     "output_type": "stream",
     "text": [
      "\n",
      "You will be provided with text delimited by triple quotes.\n",
      "If it contains a sequence of instructions, re-write those instructions in the following format:\n",
      "Step 1 - ...\n",
      "Step 2 - ...\n",
      "...\n",
      "Step N - ...\n",
      "If the text does not contain a sequence of instructions, then simply write \"No steps provided.\"\n",
      "\"\"\"\n",
      "Making a cup of tea is easy! First, you need to get some water boiling. While that's happening, grab a cup and put a tea bag in it. Once the water is hot enough, just pour it over the tea bag. Let it sit for a bit so the tea can steep. After a few minutes, take out the tea bag. If you like, you can add some sugar or milk to taste. And that's it! You've got yourself a delicious cup of tea to enjoy.\n",
      "\"\"\"\n",
      "\n"
     ]
    }
   ],
   "source": [
    "text_1 = f\"\"\"\n",
    "Making a cup of tea is easy! First, you need to get some \\\n",
    "water boiling. While that's happening, \\\n",
    "grab a cup and put a tea bag in it. Once the water is \\\n",
    "hot enough, just pour it over the tea bag. \\\n",
    "Let it sit for a bit so the tea can steep. After a \\\n",
    "few minutes, take out the tea bag. If you \\\n",
    "like, you can add some sugar or milk to taste. \\\n",
    "And that's it! You've got yourself a delicious \\\n",
    "cup of tea to enjoy.\n",
    "\"\"\"\n",
    "\n",
    "prompt = f\"\"\"\n",
    "You will be provided with text delimited by triple quotes.\n",
    "If it contains a sequence of instructions, \\\n",
    "re-write those instructions in the following format:\n",
    "Step 1 - ...\n",
    "Step 2 - ...\n",
    "...\n",
    "Step N - ...\n",
    "If the text does not contain a sequence of instructions, \\\n",
    "then simply write \\\"No steps provided.\\\"\n",
    "\\\"\\\"\\\"{text_1}\\\"\\\"\\\"\n",
    "\"\"\"\n",
    "\n",
    "print(prompt)"
   ]
  },
  {
   "cell_type": "code",
   "execution_count": 6,
   "metadata": {},
   "outputs": [
    {
     "name": "stdout",
     "output_type": "stream",
     "text": [
      "You will be provided with text delimited by triple quotes.\n",
      "If it contains a sequence of instructions, re-write those instructions in the following format:\n",
      "Step 1 - ...\n",
      "Step 2 - ...\n",
      "...\n",
      "Step N - ...\n",
      "If the text does not contain a sequence of instructions, then simply write \"No steps provided.\"\n",
      "\"\"\"\n",
      "The sun is shining brightly today, and the birds are singing. It's a beautiful day to go for a walk in the park. The flowers are blooming, and the trees are swaying gently in the breeze. People are out and about, enjoying the lovely weather. Some are having picnics, while others are playing games or simply relaxing on the grass. It's a perfect day to spend time outdoors and appreciate the beauty of nature.\n",
      "\"\"\"\n",
      "\n"
     ]
    }
   ],
   "source": [
    "text_2 = f\"\"\"\n",
    "The sun is shining brightly today, and the birds are \\\n",
    "singing. It's a beautiful day to go for a \\\n",
    "walk in the park. The flowers are blooming, and the \\\n",
    "trees are swaying gently in the breeze. People \\\n",
    "are out and about, enjoying the lovely weather. \\\n",
    "Some are having picnics, while others are playing \\\n",
    "games or simply relaxing on the grass. It's a \\\n",
    "perfect day to spend time outdoors and appreciate the \\\n",
    "beauty of nature.\n",
    "\"\"\"\n",
    "prompt = f\"\"\"You will be provided with text delimited by triple quotes.\n",
    "If it contains a sequence of instructions, \\\n",
    "re-write those instructions in the following format:\n",
    "Step 1 - ...\n",
    "Step 2 - ...\n",
    "...\n",
    "Step N - ...\n",
    "If the text does not contain a sequence of instructions, \\\n",
    "then simply write \\\"No steps provided.\\\"\n",
    "\\\"\\\"\\\"{text_2}\\\"\\\"\\\"\n",
    "\"\"\"\n",
    "\n",
    "print(prompt)"
   ]
  },
  {
   "cell_type": "code",
   "execution_count": 7,
   "metadata": {},
   "outputs": [
    {
     "name": "stdout",
     "output_type": "stream",
     "text": [
      "\n",
      "Your task is to answer in a consistent style.\n",
      "<child>: Teach me about patience.\n",
      "<grandparent>: The river that carves the deepest valley flows from a modest spring; the grandest symphony originates from a single note; the most intricate tapestry begins with a solitary thread.\n",
      "<child>: Teach me about resilience.\n",
      "\n"
     ]
    }
   ],
   "source": [
    "prompt = f\"\"\"\n",
    "Your task is to answer in a consistent style.\n",
    "<child>: Teach me about patience.\n",
    "<grandparent>: The river that carves the deepest \\\n",
    "valley flows from a modest spring; the \\\n",
    "grandest symphony originates from a single note; \\\n",
    "the most intricate tapestry begins with a solitary thread.\n",
    "<child>: Teach me about resilience.\n",
    "\"\"\"\n",
    "\n",
    "print(prompt)"
   ]
  },
  {
   "cell_type": "code",
   "execution_count": 8,
   "metadata": {},
   "outputs": [
    {
     "name": "stdout",
     "output_type": "stream",
     "text": [
      "\n",
      "Perform the following actions:\n",
      "1 - Summarize the following text delimited by triple backticks with 1 sentence.\n",
      "2 - Translate the summary into French.\n",
      "3 - List each name in the French summary.\n",
      "4 - Output a json object that contains the following keys: french_summary, num_names.\n",
      "Separate your answers with line breaks.\n",
      "Text:\n",
      "```\n",
      "In a charming village, siblings Jack and Jill set out on a quest to fetch water from a hilltop well. As they climbed, singing joyfully, misfortune struck—Jack tripped on a stone and tumbled down the hill, with Jill following suit. Though slightly battered, the pair returned home to comforting embraces. Despite the mishap, their adventurous spirits remained undimmed, and they continued exploring with delight.\n",
      "```\n",
      "\n"
     ]
    }
   ],
   "source": [
    "text = f\"\"\"\n",
    "In a charming village, siblings Jack and Jill set out on \\\n",
    "a quest to fetch water from a hilltop \\\n",
    "well. As they climbed, singing joyfully, misfortune \\\n",
    "struck—Jack tripped on a stone and tumbled \\\n",
    "down the hill, with Jill following suit. \\\n",
    "Though slightly battered, the pair returned home to \\\n",
    "comforting embraces. Despite the mishap, \\\n",
    "their adventurous spirits remained undimmed, and they \\\n",
    "continued exploring with delight.\n",
    "\"\"\"\n",
    "# example 1\n",
    "prompt_1 = f\"\"\"\n",
    "Perform the following actions:\n",
    "1 - Summarize the following text delimited by triple \\\n",
    "backticks with 1 sentence.\n",
    "2 - Translate the summary into French.\n",
    "3 - List each name in the French summary.\n",
    "4 - Output a json object that contains the following \\\n",
    "keys: french_summary, num_names.\n",
    "Separate your answers with line breaks.\n",
    "Text:\n",
    "```{text}```\n",
    "\"\"\"\n",
    "\n",
    "print(prompt_1)"
   ]
  },
  {
   "cell_type": "code",
   "execution_count": 9,
   "metadata": {},
   "outputs": [
    {
     "name": "stdout",
     "output_type": "stream",
     "text": [
      "\n",
      "Your task is to perform the following actions:\n",
      "1 - Summarize the following text delimited by <> with 1 sentence.\n",
      "2 - Translate the summary into French.\n",
      "3 - List each name in the French summary.\n",
      "4 - Output a json object that contains the\n",
      "following keys: french_summary, num_names.\n",
      "Use the following format:\n",
      "Text: <text to summarize>\n",
      "Summary: <summary>\n",
      "Translation: <summary translation>\n",
      "Names: <list of names in French summary>\n",
      "Output JSON: <json with summary and num_names>\n",
      "Text: <\n",
      "In a charming village, siblings Jack and Jill set out on a quest to fetch water from a hilltop well. As they climbed, singing joyfully, misfortune struck—Jack tripped on a stone and tumbled down the hill, with Jill following suit. Though slightly battered, the pair returned home to comforting embraces. Despite the mishap, their adventurous spirits remained undimmed, and they continued exploring with delight.\n",
      ">\n",
      "\n"
     ]
    }
   ],
   "source": [
    "prompt_2 = f\"\"\"\n",
    "Your task is to perform the following actions:\n",
    "1 - Summarize the following text delimited by <> with 1 sentence.\n",
    "2 - Translate the summary into French.\n",
    "3 - List each name in the French summary.\n",
    "4 - Output a json object that contains the\n",
    "following keys: french_summary, num_names.\n",
    "Use the following format:\n",
    "Text: <text to summarize>\n",
    "Summary: <summary>\n",
    "Translation: <summary translation>\n",
    "Names: <list of names in French summary>\n",
    "Output JSON: <json with summary and num_names>\n",
    "Text: <{text}>\n",
    "\"\"\"\n",
    "\n",
    "print(prompt_2)"
   ]
  },
  {
   "cell_type": "code",
   "execution_count": 10,
   "metadata": {},
   "outputs": [
    {
     "name": "stdout",
     "output_type": "stream",
     "text": [
      "\n",
      "Your task is to help a marketing team create a\n",
      "description for a retail website of a product based\n",
      "on a technical fact sheet.\n",
      "Write a product description based on the information\n",
      "provided in the technical specifications delimited by\n",
      "triple backticks.\n",
      "Technical specifications: ```\n",
      "OVERVIEW\n",
      "- Part of a beautiful family of mid-century inspired office furniture,\n",
      "including filing cabinets, desks, bookcases, meeting tables, and more.\n",
      "- Several options of shell color and base finishes.\n",
      "- Available with plastic back and front upholstery (SWC-100)\n",
      "or full upholstery (SWC-110) in 10 fabric and 6 leather options.\n",
      "- Base finish options are: stainless steel, matte black,\n",
      "gloss white, or chrome.\n",
      "- Chair is available with or without armrests.\n",
      "- Suitable for home or business settings.\n",
      "- Qualified for contract use.\n",
      "CONSTRUCTION\n",
      "- 5-wheel plastic coated aluminum base.\n",
      "- Pneumatic chair adjust for easy raise/lower action.\n",
      "DIMENSIONS\n",
      "- WIDTH 53 CM | 20.87”\n",
      "- DEPTH 51 CM | 20.08”\n",
      "- HEIGHT 80 CM | 31.50”\n",
      "- SEAT HEIGHT 44 CM | 17.32”\n",
      "- SEAT DEPTH 41 CM | 16.14”\n",
      "OPTIONS\n",
      "- Soft or hard-floor caster options.\n",
      "- Two choices of seat foam densities:\n",
      "medium (1.8 lb/ft3) or high (2.8 lb/ft3)\n",
      "- Armless or 8 position PU armrests\n",
      "MATERIALS\n",
      "SHELL BASE GLIDER\n",
      "- Cast Aluminum with modified nylon PA6/PA66 coating.\n",
      "- Shell thickness: 10 mm.\n",
      "SEAT\n",
      "- HD36 foam\n",
      "COUNTRY OF ORIGIN\n",
      "- Italy\n",
      "```\n",
      "\n"
     ]
    }
   ],
   "source": [
    "fact_sheet_chair = \"\"\"\n",
    "OVERVIEW\n",
    "- Part of a beautiful family of mid-century inspired office furniture,\n",
    "including filing cabinets, desks, bookcases, meeting tables, and more.\n",
    "- Several options of shell color and base finishes.\n",
    "- Available with plastic back and front upholstery (SWC-100)\n",
    "or full upholstery (SWC-110) in 10 fabric and 6 leather options.\n",
    "- Base finish options are: stainless steel, matte black,\n",
    "gloss white, or chrome.\n",
    "- Chair is available with or without armrests.\n",
    "- Suitable for home or business settings.\n",
    "- Qualified for contract use.\n",
    "CONSTRUCTION\n",
    "- 5-wheel plastic coated aluminum base.\n",
    "- Pneumatic chair adjust for easy raise/lower action.\n",
    "DIMENSIONS\n",
    "- WIDTH 53 CM | 20.87”\n",
    "- DEPTH 51 CM | 20.08”\n",
    "- HEIGHT 80 CM | 31.50”\n",
    "- SEAT HEIGHT 44 CM | 17.32”\n",
    "- SEAT DEPTH 41 CM | 16.14”\n",
    "OPTIONS\n",
    "- Soft or hard-floor caster options.\n",
    "- Two choices of seat foam densities:\n",
    "medium (1.8 lb/ft3) or high (2.8 lb/ft3)\n",
    "- Armless or 8 position PU armrests\n",
    "MATERIALS\n",
    "SHELL BASE GLIDER\n",
    "- Cast Aluminum with modified nylon PA6/PA66 coating.\n",
    "- Shell thickness: 10 mm.\n",
    "SEAT\n",
    "- HD36 foam\n",
    "COUNTRY OF ORIGIN\n",
    "- Italy\n",
    "\"\"\"\n",
    "\n",
    "# Prompt :基于说明书生成营销描述\n",
    "prompt = f\"\"\"\n",
    "Your task is to help a marketing team create a\n",
    "description for a retail website of a product based\n",
    "on a technical fact sheet.\n",
    "Write a product description based on the information\n",
    "provided in the technical specifications delimited by\n",
    "triple backticks.\n",
    "Technical specifications: ```{fact_sheet_chair}```\n",
    "\"\"\"\n",
    "\n",
    "print(prompt)"
   ]
  },
  {
   "cell_type": "code",
   "execution_count": null,
   "metadata": {},
   "outputs": [],
   "source": [
    "# 优化后的 Prompt,要求生成描述不多于 50 词\n",
    "prompt = f\"\"\"\n",
    "Your task is to help a marketing team create a\n",
    "description for a retail website of a product based\n",
    "on a technical fact sheet.\n",
    "Write a product description based on the information\n",
    "provided in the technical specifications delimited by\n",
    "triple backticks.\n",
    "Use at most 50 words.\n",
    "Technical specifications: ```{fact_sheet_chair}```\n",
    "\"\"\"\n",
    "\n",
    "print(prompt)"
   ]
  },
  {
   "cell_type": "code",
   "execution_count": 12,
   "metadata": {},
   "outputs": [
    {
     "name": "stdout",
     "output_type": "stream",
     "text": [
      "\n",
      "Your task is to help a marketing team create a\n",
      "description for a retail website of a product based\n",
      "on a technical fact sheet.\n",
      "Write a product description based on the information\n",
      "provided in the technical specifications delimited by\n",
      "triple backticks.\n",
      "The description is intended for furniture retailers,\n",
      "so should be technical in nature and focus on the\n",
      "materials the product is constructed from.\n",
      "Use at most 50 words.\n",
      "Technical specifications: ```\n",
      "OVERVIEW\n",
      "- Part of a beautiful family of mid-century inspired office furniture,\n",
      "including filing cabinets, desks, bookcases, meeting tables, and more.\n",
      "- Several options of shell color and base finishes.\n",
      "- Available with plastic back and front upholstery (SWC-100)\n",
      "or full upholstery (SWC-110) in 10 fabric and 6 leather options.\n",
      "- Base finish options are: stainless steel, matte black,\n",
      "gloss white, or chrome.\n",
      "- Chair is available with or without armrests.\n",
      "- Suitable for home or business settings.\n",
      "- Qualified for contract use.\n",
      "CONSTRUCTION\n",
      "- 5-wheel plastic coated aluminum base.\n",
      "- Pneumatic chair adjust for easy raise/lower action.\n",
      "DIMENSIONS\n",
      "- WIDTH 53 CM | 20.87”\n",
      "- DEPTH 51 CM | 20.08”\n",
      "- HEIGHT 80 CM | 31.50”\n",
      "- SEAT HEIGHT 44 CM | 17.32”\n",
      "- SEAT DEPTH 41 CM | 16.14”\n",
      "OPTIONS\n",
      "- Soft or hard-floor caster options.\n",
      "- Two choices of seat foam densities:\n",
      "medium (1.8 lb/ft3) or high (2.8 lb/ft3)\n",
      "- Armless or 8 position PU armrests\n",
      "MATERIALS\n",
      "SHELL BASE GLIDER\n",
      "- Cast Aluminum with modified nylon PA6/PA66 coating.\n",
      "- Shell thickness: 10 mm.\n",
      "SEAT\n",
      "- HD36 foam\n",
      "COUNTRY OF ORIGIN\n",
      "- Italy\n",
      "```\n",
      "\n"
     ]
    }
   ],
   "source": [
    "# 优化后的 Prompt,说明面向对象,应具有什么性质且侧重于什么方面\n",
    "prompt = f\"\"\"\n",
    "Your task is to help a marketing team create a\n",
    "description for a retail website of a product based\n",
    "on a technical fact sheet.\n",
    "Write a product description based on the information\n",
    "provided in the technical specifications delimited by\n",
    "triple backticks.\n",
    "The description is intended for furniture retailers,\n",
    "so should be technical in nature and focus on the\n",
    "materials the product is constructed from.\n",
    "Use at most 50 words.\n",
    "Technical specifications: ```{fact_sheet_chair}```\n",
    "\"\"\"\n",
    "\n",
    "print(prompt)"
   ]
  },
  {
   "cell_type": "code",
   "execution_count": 13,
   "metadata": {},
   "outputs": [
    {
     "name": "stdout",
     "output_type": "stream",
     "text": [
      "\n",
      "Your task is to help a marketing team create a\n",
      "description for a retail website of a product based\n",
      "on a technical fact sheet.\n",
      "Write a product description based on the information\n",
      "provided in the technical specifications delimited by\n",
      "triple backticks.\n",
      "The description is intended for furniture retailers,\n",
      "so should be technical in nature and focus on the\n",
      "materials the product is constructed from.\n",
      "At the end of the description, include every 7-character\n",
      "Product ID in the technical specification.\n",
      "After the description, include a table that gives the\n",
      "product's dimensions. The table should have two columns.\n",
      "In the first column include the name of the dimension.\n",
      "In the second column include the measurements in inches only.\n",
      "Give the table the title 'Product Dimensions'.\n",
      "Format everything as HTML that can be used in a website.\n",
      "Place the description in a <div> element.\n",
      "Technical specifications: ```\n",
      "OVERVIEW\n",
      "- Part of a beautiful family of mid-century inspired office furniture,\n",
      "including filing cabinets, desks, bookcases, meeting tables, and more.\n",
      "- Several options of shell color and base finishes.\n",
      "- Available with plastic back and front upholstery (SWC-100)\n",
      "or full upholstery (SWC-110) in 10 fabric and 6 leather options.\n",
      "- Base finish options are: stainless steel, matte black,\n",
      "gloss white, or chrome.\n",
      "- Chair is available with or without armrests.\n",
      "- Suitable for home or business settings.\n",
      "- Qualified for contract use.\n",
      "CONSTRUCTION\n",
      "- 5-wheel plastic coated aluminum base.\n",
      "- Pneumatic chair adjust for easy raise/lower action.\n",
      "DIMENSIONS\n",
      "- WIDTH 53 CM | 20.87”\n",
      "- DEPTH 51 CM | 20.08”\n",
      "- HEIGHT 80 CM | 31.50”\n",
      "- SEAT HEIGHT 44 CM | 17.32”\n",
      "- SEAT DEPTH 41 CM | 16.14”\n",
      "OPTIONS\n",
      "- Soft or hard-floor caster options.\n",
      "- Two choices of seat foam densities:\n",
      "medium (1.8 lb/ft3) or high (2.8 lb/ft3)\n",
      "- Armless or 8 position PU armrests\n",
      "MATERIALS\n",
      "SHELL BASE GLIDER\n",
      "- Cast Aluminum with modified nylon PA6/PA66 coating.\n",
      "- Shell thickness: 10 mm.\n",
      "SEAT\n",
      "- HD36 foam\n",
      "COUNTRY OF ORIGIN\n",
      "- Italy\n",
      "```\n",
      "\n"
     ]
    }
   ],
   "source": [
    "# 要求它抽取信息并组织成表格,并指定表格的列、表名和格式\n",
    "prompt = f\"\"\"\n",
    "Your task is to help a marketing team create a\n",
    "description for a retail website of a product based\n",
    "on a technical fact sheet.\n",
    "Write a product description based on the information\n",
    "provided in the technical specifications delimited by\n",
    "triple backticks.\n",
    "The description is intended for furniture retailers,\n",
    "so should be technical in nature and focus on the\n",
    "materials the product is constructed from.\n",
    "At the end of the description, include every 7-character\n",
    "Product ID in the technical specification.\n",
    "After the description, include a table that gives the\n",
    "product's dimensions. The table should have two columns.\n",
    "In the first column include the name of the dimension.\n",
    "In the second column include the measurements in inches only.\n",
    "Give the table the title 'Product Dimensions'.\n",
    "Format everything as HTML that can be used in a website.\n",
    "Place the description in a <div> element.\n",
    "Technical specifications: ```{fact_sheet_chair}```\n",
    "\"\"\"\n",
    "\n",
    "print(prompt)"
   ]
  },
  {
   "cell_type": "code",
   "execution_count": 14,
   "metadata": {},
   "outputs": [
    {
     "name": "stdout",
     "output_type": "stream",
     "text": [
      "\n",
      "Your task is to generate a short summary of a product review from an ecommerce site.\n",
      "Summarize the review below, delimited by triple\n",
      "backticks, in at most 30 words.\n",
      "Review: ```\n",
      "Got this panda plush toy for my daughter's birthday, who loves it and takes it everywhere. It's soft and super cute, and its face has a friendly look. It's a bit small for what I paid though. I think there might be other options that are bigger for the same price. It arrived a day earlier than expected, so I got to play with it myself before I gave it to her.\n",
      "```\n",
      "\n"
     ]
    }
   ],
   "source": [
    "prod_review = \"\"\"\n",
    "Got this panda plush toy for my daughter's birthday, \\\n",
    "who loves it and takes it everywhere. It's soft and \\\n",
    "super cute, and its face has a friendly look. It's \\\n",
    "a bit small for what I paid though. I think there \\\n",
    "might be other options that are bigger for the \\\n",
    "same price. It arrived a day earlier than expected, \\\n",
    "so I got to play with it myself before I gave it \\\n",
    "to her.\n",
    "\"\"\"\n",
    "prompt = f\"\"\"\n",
    "Your task is to generate a short summary of a product \\\n",
    "review from an ecommerce site.\n",
    "Summarize the review below, delimited by triple\n",
    "backticks, in at most 30 words.\n",
    "Review: ```{prod_review}```\n",
    "\"\"\"\n",
    "\n",
    "print(prompt)"
   ]
  },
  {
   "cell_type": "code",
   "execution_count": 15,
   "metadata": {},
   "outputs": [
    {
     "name": "stdout",
     "output_type": "stream",
     "text": [
      "\n",
      "Your task is to generate a short summary of a product review from an ecommerce site to give feedback to the Shipping deparmtment.\n",
      "Summarize the review below, delimited by triple\n",
      "backticks, in at most 30 words, and focusing on any aspects that mention shipping and delivery of the product.\n",
      "Review: ```\n",
      "Got this panda plush toy for my daughter's birthday, who loves it and takes it everywhere. It's soft and super cute, and its face has a friendly look. It's a bit small for what I paid though. I think there might be other options that are bigger for the same price. It arrived a day earlier than expected, so I got to play with it myself before I gave it to her.\n",
      "```\n",
      "\n"
     ]
    }
   ],
   "source": [
    "prompt = f\"\"\"\n",
    "Your task is to generate a short summary of a product \\\n",
    "review from an ecommerce site to give feedback to the \\\n",
    "Shipping deparmtment.\n",
    "Summarize the review below, delimited by triple\n",
    "backticks, in at most 30 words, and focusing on any aspects \\\n",
    "that mention shipping and delivery of the product.\n",
    "Review: ```{prod_review}```\n",
    "\"\"\"\n",
    "\n",
    "print(prompt)"
   ]
  },
  {
   "cell_type": "code",
   "execution_count": 16,
   "metadata": {},
   "outputs": [],
   "source": [
    "lamp_review = \"\"\"\n",
    "Needed a nice lamp for my bedroom, and this one had \\\n",
    "additional storage and not too high of a price point. \\\n",
    "Got it fast.\n",
    "The string to our lamp broke during the \\\n",
    "transit and the company happily sent over a new one. \\\n",
    "Came within a few days as well. It was easy to put \\\n",
    "together.\n",
    "I had a missing part, so I contacted their \\\n",
    "support and they very quickly got me the missing piece! \\\n",
    "Lumina seems to me to be a great company that cares \\\n",
    "about their customers and products!!\n",
    "\"\"\""
   ]
  },
  {
   "cell_type": "code",
   "execution_count": 18,
   "metadata": {},
   "outputs": [
    {
     "name": "stdout",
     "output_type": "stream",
     "text": [
      "\n",
      "What is the sentiment of the following product review,\n",
      "which is delimited with triple backticks?\n",
      "Give your answer as a single word, either \"positive\" or \"negative\".\n",
      "Review text: ```\n",
      "Needed a nice lamp for my bedroom, and this one had additional storage and not too high of a price point. Got it fast.\n",
      "The string to our lamp broke during the transit and the company happily sent over a new one. Came within a few days as well. It was easy to put together.\n",
      "I had a missing part, so I contacted their support and they very quickly got me the missing piece! Lumina seems to me to be a great company that cares about their customers and products!!\n",
      "```\n",
      "\n"
     ]
    }
   ],
   "source": [
    "prompt = f\"\"\"\n",
    "What is the sentiment of the following product review,\n",
    "which is delimited with triple backticks?\n",
    "Give your answer as a single word, either \"positive\" \\\n",
    "or \"negative\".\n",
    "Review text: ```{lamp_review}```\n",
    "\"\"\"\n",
    "\n",
    "print(prompt)"
   ]
  },
  {
   "cell_type": "code",
   "execution_count": 19,
   "metadata": {},
   "outputs": [
    {
     "name": "stdout",
     "output_type": "stream",
     "text": [
      "\n",
      "Identify a list of emotions that the writer of the following review is expressing. Include no more than five items in the list. Format your answer as a list of lower-case words separated by commas.\n",
      "Review text: ```\n",
      "Needed a nice lamp for my bedroom, and this one had additional storage and not too high of a price point. Got it fast.\n",
      "The string to our lamp broke during the transit and the company happily sent over a new one. Came within a few days as well. It was easy to put together.\n",
      "I had a missing part, so I contacted their support and they very quickly got me the missing piece! Lumina seems to me to be a great company that cares about their customers and products!!\n",
      "```\n",
      "\n"
     ]
    }
   ],
   "source": [
    "prompt = f\"\"\"\n",
    "Identify a list of emotions that the writer of the \\\n",
    "following review is expressing. Include no more than \\\n",
    "five items in the list. Format your answer as a list of \\\n",
    "lower-case words separated by commas.\n",
    "Review text: ```{lamp_review}```\n",
    "\"\"\"\n",
    "\n",
    "print(prompt)"
   ]
  },
  {
   "cell_type": "code",
   "execution_count": 20,
   "metadata": {},
   "outputs": [
    {
     "name": "stdout",
     "output_type": "stream",
     "text": [
      "\n",
      "Identify the following items from the review text:\n",
      "- Item purchased by reviewer\n",
      "- Company that made the item\n",
      "The review is delimited with triple backticks. Format your response as a JSON object with \"Item\" and \"Brand\" as the keys.\n",
      "If the information isn't present, use \"unknown\" as the value.\n",
      "Make your response as short as possible.\n",
      "Review text: ```\n",
      "Needed a nice lamp for my bedroom, and this one had additional storage and not too high of a price point. Got it fast.\n",
      "The string to our lamp broke during the transit and the company happily sent over a new one. Came within a few days as well. It was easy to put together.\n",
      "I had a missing part, so I contacted their support and they very quickly got me the missing piece! Lumina seems to me to be a great company that cares about their customers and products!!\n",
      "```\n",
      "\n"
     ]
    }
   ],
   "source": [
    "prompt = f\"\"\"\n",
    "Identify the following items from the review text:\n",
    "- Item purchased by reviewer\n",
    "- Company that made the item\n",
    "The review is delimited with triple backticks. \\\n",
    "Format your response as a JSON object with \\\n",
    "\"Item\" and \"Brand\" as the keys.\n",
    "If the information isn't present, use \"unknown\" \\\n",
    "as the value.\n",
    "Make your response as short as possible.\n",
    "Review text: ```{lamp_review}```\n",
    "\"\"\"\n",
    "\n",
    "print(prompt)"
   ]
  },
  {
   "cell_type": "code",
   "execution_count": 22,
   "metadata": {},
   "outputs": [],
   "source": [
    "story = \"\"\"\n",
    "In a recent survey conducted by the government,\n",
    "public sector employees were asked to rate their level\n",
    "of satisfaction with the department they work at.\n",
    "The results revealed that NASA was the most popular\n",
    "department with a satisfaction rating of 95%.\n",
    "One NASA employee, John Smith, commented on the findings,\n",
    "stating, \"I'm not surprised that NASA came out on top.\n",
    "It's a great place to work with amazing people and\n",
    "incredible opportunities. I'm proud to be a part of\n",
    "such an innovative organization.\"\n",
    "The results were also welcomed by NASA's management team,\n",
    "with Director Tom Johnson stating, \"We are thrilled to\n",
    "hear that our employees are satisfied with their work at NASA.\n",
    "We have a talented and dedicated team who work tirelessly\n",
    "to achieve our goals, and it's fantastic to see that their\n",
    "hard work is paying off.\"\n",
    "The survey also revealed that the\n",
    "Social Security Administration had the lowest satisfaction\n",
    "rating, with only 45% of employees indicating they were\n",
    "satisfied with their job. The government has pledged to\n",
    "address the concerns raised by employees in the survey and\n",
    "work towards improving job satisfaction across all departments.\n",
    "\"\"\""
   ]
  },
  {
   "cell_type": "code",
   "execution_count": 23,
   "metadata": {},
   "outputs": [
    {
     "name": "stdout",
     "output_type": "stream",
     "text": [
      "\n",
      "Determine five topics that are being discussed in the following text, which is delimited by triple backticks.\n",
      "Make each item one or two words long.\n",
      "Format your response as a list of items separated by commas.\n",
      "Give me a list which can be read in Python.\n",
      "Text sample: ```\n",
      "In a recent survey conducted by the government,\n",
      "public sector employees were asked to rate their level\n",
      "of satisfaction with the department they work at.\n",
      "The results revealed that NASA was the most popular\n",
      "department with a satisfaction rating of 95%.\n",
      "One NASA employee, John Smith, commented on the findings,\n",
      "stating, \"I'm not surprised that NASA came out on top.\n",
      "It's a great place to work with amazing people and\n",
      "incredible opportunities. I'm proud to be a part of\n",
      "such an innovative organization.\"\n",
      "The results were also welcomed by NASA's management team,\n",
      "with Director Tom Johnson stating, \"We are thrilled to\n",
      "hear that our employees are satisfied with their work at NASA.\n",
      "We have a talented and dedicated team who work tirelessly\n",
      "to achieve our goals, and it's fantastic to see that their\n",
      "hard work is paying off.\"\n",
      "The survey also revealed that the\n",
      "Social Security Administration had the lowest satisfaction\n",
      "rating, with only 45% of employees indicating they were\n",
      "satisfied with their job. The government has pledged to\n",
      "address the concerns raised by employees in the survey and\n",
      "work towards improving job satisfaction across all departments.\n",
      "```\n",
      "\n"
     ]
    }
   ],
   "source": [
    "prompt = f\"\"\"\n",
    "Determine five topics that are being discussed in the \\\n",
    "following text, which is delimited by triple backticks.\n",
    "Make each item one or two words long.\n",
    "Format your response as a list of items separated by commas.\n",
    "Give me a list which can be read in Python.\n",
    "Text sample: ```{story}```\n",
    "\"\"\"\n",
    "\n",
    "print(prompt)"
   ]
  },
  {
   "cell_type": "code",
   "execution_count": 25,
   "metadata": {},
   "outputs": [
    {
     "name": "stdout",
     "output_type": "stream",
     "text": [
      "\n",
      "Translate the following python dictionary from JSON to an HTML table with column headers and title: {'resturant employees': [{'name': 'Shyam', 'email': 'shyamjaiswal@gmail.com'}, {'name': 'Bob', 'email': 'bob32@gmail.com'}, {'name': 'Jai', 'email': 'jai87@gmail.com'}]}\n",
      "\n"
     ]
    }
   ],
   "source": [
    "data_json = { \"resturant employees\" :[\n",
    "{\"name\":\"Shyam\", \"email\":\"shyamjaiswal@gmail.com\"},\n",
    "{\"name\":\"Bob\", \"email\":\"bob32@gmail.com\"},\n",
    "{\"name\":\"Jai\", \"email\":\"jai87@gmail.com\"}\n",
    "]}\n",
    "\n",
    "prompt = f\"\"\"\n",
    "Translate the following python dictionary from JSON to an HTML \\\n",
    "table with column headers and title: {data_json}\n",
    "\"\"\"\n",
    "\n",
    "print(prompt)"
   ]
  },
  {
   "cell_type": "code",
   "execution_count": 26,
   "metadata": {},
   "outputs": [
    {
     "name": "stdout",
     "output_type": "stream",
     "text": [
      "\n",
      "You are a customer service AI assistant.\n",
      "Your task is to send an email reply to a valued customer.\n",
      "Given the customer email delimited by ```, Generate a reply to thank the customer for their review.\n",
      "If the sentiment is positive or neutral, thank them for their review.\n",
      "If the sentiment is negative, apologize and suggest that they can reach out to customer service.\n",
      "Make sure to use specific details from the review.\n",
      "Write in a concise and professional tone.\n",
      "Sign the email as `AI customer agent`.\n",
      "Customer review: ```\n",
      "So, they still had the 17 piece system on seasonal sale for around $49 in the month of November, about half off, but for some reason (call it price gouging) around the second week of December the prices all went up to about anywhere from between $70-$89 for the same system. And the 11 piece system went up around $10 or so in price also from the earlier sale price of $29. So it looks okay, but if you look at the base, the part where the blade locks into place doesn’t look as good as in previous editions from a few years ago, but I plan to be very gentle with it (example, I crush very hard items like beans, ice, rice, etc. in the blender first then pulverize them in the serving size I want in the blender then switch to the whipping blade for a finer flour, and use the cross cutting blade first when making smoothies, then use the flat blade if I need them finer/less pulpy). Special tip when making smoothies, finely cut and freeze the fruits and vegetables (if using spinach-lightly stew soften the spinach then freeze until ready for use-and if making sorbet, use a small to medium sized food processor) that you plan to use that way you can avoid adding so much ice if at all-when making your smoothie. After about a year, the motor was making a funny noise. I called customer service but the warranty expired already, so I had to buy another one. FYI: The overall quality has gone done in these types of products, so they are kind of counting on brand recognition and consumer loyalty to maintain sales. Got it in about two days.\n",
      "```\n",
      "Review sentiment: negative\n",
      "\n"
     ]
    }
   ],
   "source": [
    "# given the sentiment from the lesson on \"inferring\",\n",
    "# and the original customer message, customize the email\n",
    "sentiment = \"negative\"\n",
    "# review for a blender\n",
    "review = f\"\"\"\n",
    "So, they still had the 17 piece system on seasonal \\\n",
    "sale for around $49 in the month of November, about \\\n",
    "half off, but for some reason (call it price gouging) \\\n",
    "around the second week of December the prices all went \\\n",
    "up to about anywhere from between $70-$89 for the same \\\n",
    "system. And the 11 piece system went up around $10 or \\\n",
    "so in price also from the earlier sale price of $29. \\\n",
    "So it looks okay, but if you look at the base, the part \\\n",
    "where the blade locks into place doesn’t look as good \\\n",
    "as in previous editions from a few years ago, but I \\\n",
    "plan to be very gentle with it (example, I crush \\\n",
    "very hard items like beans, ice, rice, etc. in the \\\n",
    "blender first then pulverize them in the serving size \\\n",
    "I want in the blender then switch to the whipping \\\n",
    "blade for a finer flour, and use the cross cutting blade \\\n",
    "first when making smoothies, then use the flat blade \\\n",
    "if I need them finer/less pulpy). Special tip when making \\\n",
    "smoothies, finely cut and freeze the fruits and \\\n",
    "vegetables (if using spinach-lightly stew soften the \\\n",
    "spinach then freeze until ready for use-and if making \\\n",
    "sorbet, use a small to medium sized food processor) \\\n",
    "that you plan to use that way you can avoid adding so \\\n",
    "much ice if at all-when making your smoothie. \\\n",
    "After about a year, the motor was making a funny noise. \\\n",
    "I called customer service but the warranty expired \\\n",
    "already, so I had to buy another one. FYI: The overall \\\n",
    "quality has gone done in these types of products, so \\\n",
    "they are kind of counting on brand recognition and \\\n",
    "consumer loyalty to maintain sales. Got it in about \\\n",
    "two days.\n",
    "\"\"\"\n",
    "\n",
    "prompt = f\"\"\"\n",
    "You are a customer service AI assistant.\n",
    "Your task is to send an email reply to a valued customer.\n",
    "Given the customer email delimited by ```, \\\n",
    "Generate a reply to thank the customer for their review.\n",
    "If the sentiment is positive or neutral, thank them for \\\n",
    "their review.\n",
    "If the sentiment is negative, apologize and suggest that \\\n",
    "they can reach out to customer service.\n",
    "Make sure to use specific details from the review.\n",
    "Write in a concise and professional tone.\n",
    "Sign the email as `AI customer agent`.\n",
    "Customer review: ```{review}```\n",
    "Review sentiment: {sentiment}\n",
    "\"\"\"\n",
    "\n",
    "print(prompt)"
   ]
  },
  {
   "cell_type": "code",
   "execution_count": null,
   "metadata": {},
   "outputs": [],
   "source": []
  }
 ],
 "metadata": {
  "kernelspec": {
   "display_name": "langchain",
   "language": "python",
   "name": "python3"
  },
  "language_info": {
   "codemirror_mode": {
    "name": "ipython",
    "version": 3
   },
   "file_extension": ".py",
   "mimetype": "text/x-python",
   "name": "python",
   "nbconvert_exporter": "python",
   "pygments_lexer": "ipython3",
   "version": "3.10.0"
  },
  "orig_nbformat": 4
 },
 "nbformat": 4,
 "nbformat_minor": 2
}
